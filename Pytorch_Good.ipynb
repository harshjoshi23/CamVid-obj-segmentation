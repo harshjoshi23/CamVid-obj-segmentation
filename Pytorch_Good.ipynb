{
  "nbformat": 4,
  "nbformat_minor": 0,
  "metadata": {
    "colab": {
      "provenance": [],
      "gpuType": "T4"
    },
    "kernelspec": {
      "name": "python3",
      "display_name": "Python 3"
    },
    "language_info": {
      "name": "python"
    },
    "accelerator": "GPU"
  },
  "cells": [
    {
      "cell_type": "code",
      "execution_count": null,
      "metadata": {
        "id": "CSVd1TljAcR2"
      },
      "outputs": [],
      "source": []
    },
    {
      "cell_type": "code",
      "source": [],
      "metadata": {
        "id": "3ifFVhFAAd5F"
      },
      "execution_count": null,
      "outputs": []
    },
    {
      "cell_type": "markdown",
      "source": [
        "# Attempt 4"
      ],
      "metadata": {
        "id": "19sPpQZfOYZy"
      }
    },
    {
      "cell_type": "markdown",
      "source": [
        "## Imports"
      ],
      "metadata": {
        "id": "ZWl2omX97J79"
      }
    },
    {
      "cell_type": "code",
      "source": [],
      "metadata": {
        "id": "kEeNHQZP7Jq3"
      },
      "execution_count": null,
      "outputs": []
    },
    {
      "cell_type": "code",
      "source": [
        "import os\n",
        "import numpy as np\n",
        "import pandas as pd\n",
        "from PIL import Image\n",
        "import torch\n",
        "from torch.utils.data import Dataset, DataLoader\n",
        "from torchvision import transforms\n",
        "import matplotlib.pyplot as plt\n",
        "\n",
        "# Suppressing warnings for cleaner notebook presentation\n",
        "import warnings\n",
        "warnings.filterwarnings(\"ignore\")"
      ],
      "metadata": {
        "id": "gkzgUrgfW-uM"
      },
      "execution_count": null,
      "outputs": []
    },
    {
      "cell_type": "code",
      "source": [
        "\n",
        "\n",
        "# Path to the dataset and class dictionary\n",
        "base_path = '/content/drive/My Drive/CamVid_Actual'\n",
        "class_dict_path = os.path.join(base_path, \"class_dict.csv\")\n"
      ],
      "metadata": {
        "id": "5qK4yMGiW-sF"
      },
      "execution_count": null,
      "outputs": []
    },
    {
      "cell_type": "markdown",
      "source": [
        "## Paths and class dictionary"
      ],
      "metadata": {
        "id": "-COA_ouW7Lze"
      }
    },
    {
      "cell_type": "code",
      "source": [
        "\n",
        "\n",
        "# Load class dictionary\n",
        "class_dict = pd.read_csv(class_dict_path)\n",
        "print(class_dict.head())\n",
        "# Color mapping from CSV\n",
        "color_to_class = {tuple(row[['r', 'g', 'b']].values): idx for idx, row in class_dict.iterrows()}\n",
        "class_to_color = {idx: tuple(row[['r', 'g', 'b']].values) for idx, row in class_dict.iterrows()}\n",
        "\n"
      ],
      "metadata": {
        "colab": {
          "base_uri": "https://localhost:8080/"
        },
        "id": "ERtjCARaW-pl",
        "outputId": "41949336-bd6d-4bd2-c710-38343f3e0d9a"
      },
      "execution_count": null,
      "outputs": [
        {
          "output_type": "stream",
          "name": "stdout",
          "text": [
            "        name    r    g    b\n",
            "0     Animal   64  128   64\n",
            "1    Archway  192    0  128\n",
            "2  Bicyclist    0  128  192\n",
            "3     Bridge    0  128   64\n",
            "4   Building  128    0    0\n"
          ]
        }
      ]
    },
    {
      "cell_type": "code",
      "source": [
        "# Dataset paths\n",
        "train_images_path = sorted([os.path.join(base_path, \"train\", x) for x in os.listdir(os.path.join(base_path, \"train\"))])\n",
        "train_labels_path = sorted([os.path.join(base_path, \"train_labels\", x) for x in os.listdir(os.path.join(base_path, \"train_labels\"))])\n",
        "val_images_path = sorted([os.path.join(base_path, \"val\", x) for x in os.listdir(os.path.join(base_path, \"val\"))])\n",
        "val_labels_path = sorted([os.path.join(base_path, \"val_labels\", x) for x in os.listdir(os.path.join(base_path, \"val_labels\"))])\n",
        "\n",
        "# Example transformation and dataset class\n",
        "transform = transforms.Compose([\n",
        "    transforms.Resize((256, 256)),\n",
        "    transforms.ToTensor(),\n",
        "    transforms.Normalize(mean=[0.485, 0.456, 0.406], std=[0.229, 0.224, 0.225])\n",
        "])\n"
      ],
      "metadata": {
        "id": "ElOH1HWXW-m5"
      },
      "execution_count": null,
      "outputs": []
    },
    {
      "cell_type": "code",
      "source": [],
      "metadata": {
        "id": "8k7WFRVi7SIX"
      },
      "execution_count": null,
      "outputs": []
    },
    {
      "cell_type": "markdown",
      "source": [
        "## Defining thecamVidDataset Class"
      ],
      "metadata": {
        "id": "oIFTIpoZ7PD4"
      }
    },
    {
      "cell_type": "code",
      "source": [
        "class CamVidDataset(Dataset):\n",
        "    def __init__(self, images_path, labels_path, transform=None, label_transform=None):\n",
        "        self.images_path = images_path\n",
        "        self.labels_path = labels_path\n",
        "        self.transform = transform\n",
        "        self.label_transform = label_transform  # Separate transform for labels\n",
        "\n",
        "    def __len__(self):\n",
        "        return len(self.images_path)\n",
        "\n",
        "    def __getitem__(self, idx):\n",
        "        image = Image.open(self.images_path[idx]).convert(\"RGB\")\n",
        "        label = Image.open(self.labels_path[idx])\n",
        "\n",
        "        if self.transform:\n",
        "            image = self.transform(image)\n",
        "\n",
        "        if self.label_transform:\n",
        "            label = self.label_transform(label)  # Apply label-specific transformations\n",
        "\n",
        "        # Convert label to class indices using color mapping\n",
        "        label = np.array(label, dtype=np.int32)  # Ensure using int32 for label indexing\n",
        "        mask = np.zeros((label.shape[0], label.shape[1]), dtype=np.int64)\n",
        "        for rgb, class_id in color_to_class.items():\n",
        "            match = (label == np.array(rgb, dtype=np.int32)).all(axis=-1)\n",
        "            mask[match] = class_id\n",
        "\n",
        "        label = torch.from_numpy(mask)\n",
        "        return image, label\n",
        "\n",
        "# Define transformations\n",
        "transform = transforms.Compose([\n",
        "    transforms.Resize((256, 256)),\n",
        "    transforms.ToTensor(),\n",
        "    transforms.Normalize(mean=[0.485, 0.456, 0.406], std=[0.229, 0.224, 0.225])\n",
        "])\n",
        "\n",
        "label_transform = transforms.Compose([\n",
        "    transforms.Resize((256, 256), interpolation=Image.NEAREST)  # Resize labels to match image size\n",
        "])\n",
        "\n",
        "train_dataset = CamVidDataset(train_images_path, train_labels_path, transform, label_transform)\n",
        "val_dataset = CamVidDataset(val_images_path, val_labels_path, transform, label_transform)\n",
        "train_loader = DataLoader(train_dataset, batch_size=4, shuffle=True)\n",
        "val_loader = DataLoader(val_dataset, batch_size=4, shuffle=False)\n"
      ],
      "metadata": {
        "id": "s3yZC00sY39T"
      },
      "execution_count": null,
      "outputs": []
    },
    {
      "cell_type": "code",
      "source": [],
      "metadata": {
        "id": "poDwiGkTZXAw"
      },
      "execution_count": null,
      "outputs": []
    },
    {
      "cell_type": "code",
      "source": [
        "# Quick check\n",
        "for images, labels in train_loader:\n",
        "    print(f\"Image batch shape: {images.size()}\")\n",
        "    print(f\"Label batch shape: {labels.size()}\")\n",
        "    plt.figure(figsize=(10, 5))\n",
        "    plt.subplot(121)\n",
        "    plt.imshow(images[0].permute(1, 2, 0).numpy())\n",
        "    plt.title(\"Image\")\n",
        "    plt.subplot(122)\n",
        "    plt.imshow(labels[0].numpy())\n",
        "    plt.title(\"Label\")\n",
        "    plt.show()\n",
        "    break"
      ],
      "metadata": {
        "colab": {
          "base_uri": "https://localhost:8080/",
          "height": 507
        },
        "id": "-pL_LDI5Y__j",
        "outputId": "0679d510-88be-4e76-fbd8-b8f85e09a06b"
      },
      "execution_count": null,
      "outputs": [
        {
          "output_type": "stream",
          "name": "stderr",
          "text": [
            "WARNING:matplotlib.image:Clipping input data to the valid range for imshow with RGB data ([0..1] for floats or [0..255] for integers).\n"
          ]
        },
        {
          "output_type": "stream",
          "name": "stdout",
          "text": [
            "Image batch shape: torch.Size([4, 3, 256, 256])\n",
            "Label batch shape: torch.Size([4, 256, 256])\n"
          ]
        },
        {
          "output_type": "display_data",
          "data": {
            "text/plain": [
              "<Figure size 1000x500 with 2 Axes>"
            ],
            "image/png": "[encoded data removed]"
          },
          "metadata": {}
        }
      ]
    },
    {
      "cell_type": "code",
      "source": [],
      "metadata": {
        "id": "Ws6JhG9JY36e"
      },
      "execution_count": null,
      "outputs": []
    },
    {
      "cell_type": "code",
      "source": [],
      "metadata": {
        "id": "9qxSv5Z1Y34n"
      },
      "execution_count": null,
      "outputs": []
    },
    {
      "cell_type": "markdown",
      "source": [
        "## Code for Model :"
      ],
      "metadata": {
        "id": "ykf5y-DT7T4C"
      }
    },
    {
      "cell_type": "code",
      "source": [
        "import torch\n",
        "import torch.nn as nn\n",
        "\n",
        "class DoubleConv(nn.Module):\n",
        "    \"\"\"(convolution => [BN] => ReLU) * 2\"\"\"\n",
        "    def __init__(self, in_channels, out_channels):\n",
        "        super(DoubleConv, self).__init__()\n",
        "        self.double_conv = nn.Sequential(\n",
        "            nn.Conv2d(in_channels, out_channels, 3, padding=1),\n",
        "            nn.BatchNorm2d(out_channels),\n",
        "            nn.ReLU(inplace=True),\n",
        "            nn.Conv2d(out_channels, out_channels, 3, padding=1),\n",
        "            nn.BatchNorm2d(out_channels),\n",
        "            nn.ReLU(inplace=True)\n",
        "        )\n",
        "\n",
        "    def forward(self, x):\n",
        "        return self.double_conv(x)\n",
        "\n",
        "class UNet(nn.Module):\n",
        "    def __init__(self, n_channels, n_classes):\n",
        "        super(UNet, self).__init__()\n",
        "        self.n_channels = n_channels\n",
        "        self.n_classes = n_classes\n",
        "\n",
        "        self.inc = DoubleConv(n_channels, 64)\n",
        "        self.down1 = DoubleConv(64, 128)\n",
        "        self.down2 = DoubleConv(128, 256)\n",
        "        self.down3 = DoubleConv(256, 512)\n",
        "        self.down4 = DoubleConv(512, 512)\n",
        "        self.up1 = DoubleConv(1024, 256)\n",
        "        self.up2 = DoubleConv(512, 128)\n",
        "        self.up3 = DoubleConv(256, 64)\n",
        "        self.up4 = DoubleConv(128, 64)\n",
        "        self.outc = nn.Conv2d(64, n_classes, 1)\n",
        "\n",
        "    def forward(self, x):\n",
        "        x1 = self.inc(x)\n",
        "        x2 = self.down1(x1)\n",
        "        x3 = self.down2(x2)\n",
        "        x4 = self.down3(x3)\n",
        "        x5 = self.down4(x4)\n",
        "        x = self.up1(torch.cat([x4, x5], dim=1))\n",
        "        x = self.up2(torch.cat([x3, x], dim=1))\n",
        "        x = self.up3(torch.cat([x2, x], dim=1))\n",
        "        x = self.up4(torch.cat([x1, x], dim=1))\n",
        "        logits = self.outc(x)\n",
        "        return logits\n",
        "\n",
        "# Model initialization\n",
        "device = torch.device('cuda' if torch.cuda.is_available() else 'cpu')\n",
        "model = UNet(n_channels=3, n_classes=len(class_dict)).to(device)\n"
      ],
      "metadata": {
        "id": "0Y4C8bIgcS2w"
      },
      "execution_count": null,
      "outputs": []
    },
    {
      "cell_type": "code",
      "source": [],
      "metadata": {
        "id": "LQlVBoBHcSz9"
      },
      "execution_count": null,
      "outputs": []
    },
    {
      "cell_type": "markdown",
      "source": [
        "## Loss Fn and optimizer :"
      ],
      "metadata": {
        "id": "UCjMaF-y7WGs"
      }
    },
    {
      "cell_type": "code",
      "source": [
        "criterion = nn.CrossEntropyLoss()\n",
        "optimizer = torch.optim.Adam(model.parameters(), lr=0.001)\n"
      ],
      "metadata": {
        "id": "BKIbnU1acSxu"
      },
      "execution_count": null,
      "outputs": []
    },
    {
      "cell_type": "code",
      "source": [
        "# Check for acc once done"
      ],
      "metadata": {
        "id": "l78Tr28zdf-8"
      },
      "execution_count": null,
      "outputs": []
    },
    {
      "cell_type": "code",
      "source": [],
      "metadata": {
        "id": "QwKmW6p8df8J"
      },
      "execution_count": null,
      "outputs": []
    },
    {
      "cell_type": "markdown",
      "source": [
        "## Model training Updated"
      ],
      "metadata": {
        "id": "aIHpdmbT7agp"
      }
    },
    {
      "cell_type": "markdown",
      "source": [
        "Best Results"
      ],
      "metadata": {
        "id": "b33ROc3t7k-e"
      }
    },
    {
      "cell_type": "code",
      "source": [
        "#Updated Training Function with Epoch Feedback and Accuracy\n",
        "import torch\n",
        "\n",
        "def train_model(model, train_loader, val_loader, criterion, optimizer, num_epochs=10):\n",
        "    for epoch in range(num_epochs):\n",
        "        model.train()\n",
        "        train_loss = 0.0\n",
        "        correct_train = 0\n",
        "        total_train = 0\n",
        "\n",
        "        for images, masks in train_loader:\n",
        "            images, masks = images.to(device), masks.to(device)\n",
        "            optimizer.zero_grad()\n",
        "            outputs = model(images)\n",
        "            loss = criterion(outputs, masks)\n",
        "            loss.backward()\n",
        "            optimizer.step()\n",
        "            train_loss += loss.item()\n",
        "\n",
        "            # Calculate accuracy\n",
        "            _, predicted = torch.max(outputs.data, 1)\n",
        "            total_train += masks.nelement()\n",
        "            correct_train += predicted.eq(masks.data).sum().item()\n",
        "\n",
        "        train_accuracy = 100 * correct_train / total_train\n",
        "\n",
        "        model.eval()\n",
        "        val_loss = 0.0\n",
        "        correct_val = 0\n",
        "        total_val = 0\n",
        "        with torch.no_grad():\n",
        "            for images, masks in val_loader:\n",
        "                images, masks = images.to(device), masks.to(device)\n",
        "                outputs = model(images)\n",
        "                loss = criterion(outputs, masks)\n",
        "                val_loss += loss.item()\n",
        "\n",
        "                # Calculate accuracy\n",
        "                _, predicted = torch.max(outputs.data, 1)\n",
        "                total_val += masks.nelement()\n",
        "                correct_val += predicted.eq(masks.data).sum().item()\n",
        "\n",
        "        val_accuracy = 100 * correct_val / total_val\n",
        "\n",
        "        print(f'Epoch {epoch + 1}/{num_epochs}, Train Loss: {train_loss / len(train_loader):.3f}, Train Acc: {train_accuracy:.2f}%, Val Loss: {val_loss / len(val_loader):.3f}, Val Acc: {val_accuracy:.2f}%')\n",
        "\n",
        "# Assuming you have already defined 'model', 'train_loader', 'val_loader', 'criterion', and 'optimizer'\n",
        "train_model(model, train_loader, val_loader, criterion, optimizer, num_epochs=10)\n"
      ],
      "metadata": {
        "id": "0X-noPk77cmZ"
      },
      "execution_count": null,
      "outputs": []
    },
    {
      "cell_type": "code",
      "source": [
        "# # Training function with accuracy same above\n",
        "# def train_model(model, train_loader, val_loader, criterion, optimizer, num_epochs=10):\n",
        "#     for epoch in range(num_epochs):\n",
        "#         model.train()\n",
        "#         train_loss = 0\n",
        "#         correct_train = 0\n",
        "#         total_train = 0\n",
        "\n",
        "#         for images, masks in train_loader:\n",
        "#             images, masks = images.to(device), masks.to(device)\n",
        "#             optimizer.zero_grad()\n",
        "#             outputs = model(images)\n",
        "#             loss = criterion(outputs, masks)\n",
        "#             loss.backward()\n",
        "#             optimizer.step()\n",
        "#             train_loss += loss.item()\n",
        "\n",
        "#             _, predicted = torch.max(outputs, 1)\n",
        "#             total_train += masks.numel()\n",
        "#             correct_train += (predicted == masks).sum().item()\n",
        "\n",
        "#         train_accuracy = 100 * correct_train / total_train\n",
        "\n",
        "#         model.eval()\n",
        "#         val_loss = 0\n",
        "#         correct_val = 0\n",
        "#         total_val = 0\n",
        "#         with torch.no_grad():\n",
        "#             for images, masks in val_loader:\n",
        "#                 images, masks = images.to(device), masks.to(device)\n",
        "#                 outputs = model(images)\n",
        "#                 loss = criterion(outputs, masks)\n",
        "#                 val_loss += loss.item()\n",
        "\n",
        "#                 _, predicted = torch.max(outputs, 1)\n",
        "#                 total_val += masks.numel()\n",
        "#                 correct_val += (predicted == masks).sum().item()\n",
        "\n",
        "#         val_accuracy = 100 * correct_val / total_val\n",
        "\n",
        "#         print(f'Epoch {epoch + 1}/{num_epochs}, Train Loss: {train_loss / len(train_loader):.3f}, Train Acc: {train_accuracy:.2f}%, Val Loss: {val_loss / len(val_loader):.3f}, Val Acc: {val_accuracy:.2f}%')\n",
        "\n",
        "# # Run the training\n",
        "# train_model(model, train_loader, val_loader, criterion, optimizer, num_epochs=10)\n"
      ],
      "metadata": {
        "colab": {
          "base_uri": "https://localhost:8080/"
        },
        "id": "1XzGiAUxf0uv",
        "outputId": "17ac465f-2fe0-44b6-ef02-ab2530eeb80c"
      },
      "execution_count": null,
      "outputs": [
        {
          "output_type": "stream",
          "name": "stdout",
          "text": [
            "Epoch 1/10, Train Loss: 0.935, Train Acc: 71.77%, Val Loss: 1.109, Val Acc: 67.82%\n",
            "Epoch 2/10, Train Loss: 0.892, Train Acc: 73.18%, Val Loss: 0.952, Val Acc: 70.96%\n",
            "Epoch 3/10, Train Loss: 0.856, Train Acc: 74.16%, Val Loss: 0.906, Val Acc: 73.12%\n",
            "Epoch 4/10, Train Loss: 0.815, Train Acc: 75.55%, Val Loss: 1.060, Val Acc: 69.33%\n",
            "Epoch 5/10, Train Loss: 0.809, Train Acc: 75.75%, Val Loss: 0.834, Val Acc: 76.20%\n",
            "Epoch 6/10, Train Loss: 0.766, Train Acc: 77.00%, Val Loss: 0.878, Val Acc: 72.60%\n",
            "Epoch 7/10, Train Loss: 0.724, Train Acc: 78.28%, Val Loss: 0.780, Val Acc: 76.28%\n",
            "Epoch 8/10, Train Loss: 0.696, Train Acc: 79.07%, Val Loss: 0.776, Val Acc: 77.49%\n",
            "Epoch 9/10, Train Loss: 0.688, Train Acc: 79.45%, Val Loss: 0.842, Val Acc: 75.95%\n",
            "Epoch 10/10, Train Loss: 0.688, Train Acc: 79.31%, Val Loss: 0.770, Val Acc: 76.66%\n"
          ]
        }
      ]
    },
    {
      "cell_type": "code",
      "source": [],
      "metadata": {
        "id": "w__8ljD3f0r8"
      },
      "execution_count": null,
      "outputs": []
    },
    {
      "cell_type": "code",
      "source": [],
      "metadata": {
        "id": "ce1ZDMr3f0qQ"
      },
      "execution_count": null,
      "outputs": []
    },
    {
      "cell_type": "code",
      "source": [],
      "metadata": {
        "id": "WNtUkKjIvFN_"
      },
      "execution_count": null,
      "outputs": []
    },
    {
      "cell_type": "markdown",
      "source": [
        "## Eval :\n",
        "\n",
        "nedd to look : hyper param"
      ],
      "metadata": {
        "id": "K0ge6fF67dxQ"
      }
    },
    {
      "cell_type": "code",
      "source": [
        "# Model evaluation on a separate test set\n",
        "def evaluate_model(model, test_loader, criterion):\n",
        "    model.eval()\n",
        "    test_loss = 0\n",
        "    correct_test = 0\n",
        "    total_test = 0\n",
        "\n",
        "    with torch.no_grad():\n",
        "        for images, masks in test_loader:\n",
        "            images, masks = images.to(device), masks.to(device)\n",
        "            outputs = model(images)\n",
        "            loss = criterion(outputs, masks)\n",
        "            test_loss += loss.item()\n",
        "\n",
        "            _, predicted = torch.max(outputs, 1)\n",
        "            total_test += masks.numel()\n",
        "            correct_test += (predicted == masks).sum().item()\n",
        "\n",
        "    test_accuracy = 100 * correct_test / total_test\n",
        "    print(f'Test Loss: {test_loss / len(test_loader):.3f}, Test Accuracy: {test_accuracy:.2f}%')\n",
        "\n",
        "# Assuming test_loader is defined and set up similarly to train_loader and val_loader\n",
        "evaluate_model(model, test_loader, criterion)\n"
      ],
      "metadata": {
        "id": "wgPzllsRvFLK"
      },
      "execution_count": null,
      "outputs": []
    },
    {
      "cell_type": "code",
      "source": [],
      "metadata": {
        "id": "LZDEf8TgvFJh"
      },
      "execution_count": null,
      "outputs": []
    },
    {
      "cell_type": "code",
      "source": [
        "# import torch\n",
        "# from torch.utils.checkpoint import checkpoint\n",
        "\n",
        "# def run_function(inputs):\n",
        "#     return model(inputs)\n",
        "\n",
        "# def evaluate_model(model, test_loader, criterion):\n",
        "#     model.eval()\n",
        "#     test_loss = 0\n",
        "#     correct_test = 0\n",
        "#     total_test = 0\n",
        "\n",
        "#     with torch.no_grad():\n",
        "#         for images, masks in test_loader:\n",
        "#             images, masks = images.to(device), masks.to(device)\n",
        "#             # Using checkpointing during inference for memory efficiency\n",
        "#             outputs = checkpoint(run_function, images)\n",
        "#             loss = criterion(outputs, masks)\n",
        "#             test_loss += loss.item()\n",
        "#             _, predicted = torch.max(outputs, 1)\n",
        "#             total_test += masks.numel()\n",
        "#             correct_test += (predicted == masks).sum().item()\n",
        "\n",
        "#     test_accuracy = 100 * correct_test / total_test\n",
        "#     print(f'Test Loss: {test_loss / len(test_loader):.3f}, Test Accuracy: {test_accuracy:.2f}%')\n",
        "\n",
        "# # Assuming test_loader is defined and set up similarly to train_loader and val_loader\n",
        "# evaluate_model(model, test_loader, criterion)\n"
      ],
      "metadata": {
        "id": "EmPbHMZnyuj4"
      },
      "execution_count": null,
      "outputs": []
    },
    {
      "cell_type": "code",
      "source": [],
      "metadata": {
        "id": "eovHrcCDyuhr"
      },
      "execution_count": null,
      "outputs": []
    },
    {
      "cell_type": "code",
      "source": [
        "n"
      ],
      "metadata": {
        "id": "If9hqwpMf0oB"
      },
      "execution_count": null,
      "outputs": []
    },
    {
      "cell_type": "markdown",
      "source": [
        "## Good :"
      ],
      "metadata": {
        "id": "6mNWtApS7wdC"
      }
    },
    {
      "cell_type": "code",
      "source": [
        "#Updated Training Function with Epoch Feedback and Accuracy\n",
        "import torch\n",
        "\n",
        "def train_model(model, train_loader, val_loader, criterion, optimizer, num_epochs=10):\n",
        "    for epoch in range(num_epochs):\n",
        "        model.train()\n",
        "        train_loss = 0.0\n",
        "        correct_train = 0\n",
        "        total_train = 0\n",
        "\n",
        "        for images, masks in train_loader:\n",
        "            images, masks = images.to(device), masks.to(device)\n",
        "            optimizer.zero_grad()\n",
        "            outputs = model(images)\n",
        "            loss = criterion(outputs, masks)\n",
        "            loss.backward()\n",
        "            optimizer.step()\n",
        "            train_loss += loss.item()\n",
        "\n",
        "            # Calculate accuracy\n",
        "            _, predicted = torch.max(outputs.data, 1)\n",
        "            total_train += masks.nelement()\n",
        "            correct_train += predicted.eq(masks.data).sum().item()\n",
        "\n",
        "        train_accuracy = 100 * correct_train / total_train\n",
        "\n",
        "        model.eval()\n",
        "        val_loss = 0.0\n",
        "        correct_val = 0\n",
        "        total_val = 0\n",
        "        with torch.no_grad():\n",
        "            for images, masks in val_loader:\n",
        "                images, masks = images.to(device), masks.to(device)\n",
        "                outputs = model(images)\n",
        "                loss = criterion(outputs, masks)\n",
        "                val_loss += loss.item()\n",
        "\n",
        "                # Calculate accuracy\n",
        "                _, predicted = torch.max(outputs.data, 1)\n",
        "                total_val += masks.nelement()\n",
        "                correct_val += predicted.eq(masks.data).sum().item()\n",
        "\n",
        "        val_accuracy = 100 * correct_val / total_val\n",
        "\n",
        "        print(f'Epoch {epoch + 1}/{num_epochs}, Train Loss: {train_loss / len(train_loader):.3f}, Train Acc: {train_accuracy:.2f}%, Val Loss: {val_loss / len(val_loader):.3f}, Val Acc: {val_accuracy:.2f}%')\n",
        "\n",
        "# Assuming you have already defined 'model', 'train_loader', 'val_loader', 'criterion', and 'optimizer'\n",
        "train_model(model, train_loader, val_loader, criterion, optimizer, num_epochs=10)\n"
      ],
      "metadata": {
        "colab": {
          "base_uri": "https://localhost:8080/"
        },
        "id": "K94CsGUvf2KK",
        "outputId": "c3dca9c1-2d15-4270-fb14-d5da8362998c"
      },
      "execution_count": null,
      "outputs": [
        {
          "output_type": "stream",
          "name": "stdout",
          "text": [
            "Epoch 1/10, Train Loss: 0.673, Train Acc: 79.87%, Val Loss: 0.696, Val Acc: 79.13%\n"
          ]
        }
      ]
    },
    {
      "cell_type": "code",
      "source": [],
      "metadata": {
        "id": "nqiLoEmj22eI"
      },
      "execution_count": null,
      "outputs": []
    },
    {
      "cell_type": "markdown",
      "source": [
        "## DUMP"
      ],
      "metadata": {
        "id": "gv_alUzb7yPP"
      }
    },
    {
      "cell_type": "code",
      "source": [],
      "metadata": {
        "id": "PfJ5wgCG22ba"
      },
      "execution_count": null,
      "outputs": []
    },
    {
      "cell_type": "code",
      "source": [],
      "metadata": {
        "id": "g4_T4bsb74gk"
      },
      "execution_count": null,
      "outputs": []
    },
    {
      "cell_type": "code",
      "source": [],
      "metadata": {
        "id": "AuYLgWvxf22j"
      },
      "execution_count": null,
      "outputs": []
    },
    {
      "cell_type": "code",
      "source": [
        "# # Training function with accuracy same above\n",
        "# def train_model(model, train_loader, val_loader, criterion, optimizer, num_epochs=10):\n",
        "#     for epoch in range(num_epochs):\n",
        "#         model.train()\n",
        "#         train_loss = 0\n",
        "#         correct_train = 0\n",
        "#         total_train = 0\n",
        "\n",
        "#         for images, masks in train_loader:\n",
        "#             images, masks = images.to(device), masks.to(device)\n",
        "#             optimizer.zero_grad()\n",
        "#             outputs = model(images)\n",
        "#             loss = criterion(outputs, masks)\n",
        "#             loss.backward()\n",
        "#             optimizer.step()\n",
        "#             train_loss += loss.item()\n",
        "\n",
        "#             _, predicted = torch.max(outputs, 1)\n",
        "#             total_train += masks.numel()\n",
        "#             correct_train += (predicted == masks).sum().item()\n",
        "\n",
        "#         train_accuracy = 100 * correct_train / total_train\n",
        "\n",
        "#         model.eval()\n",
        "#         val_loss = 0\n",
        "#         correct_val = 0\n",
        "#         total_val = 0\n",
        "#         with torch.no_grad():\n",
        "#             for images, masks in val_loader:\n",
        "#                 images, masks = images.to(device), masks.to(device)\n",
        "#                 outputs = model(images)\n",
        "#                 loss = criterion(outputs, masks)\n",
        "#                 val_loss += loss.item()\n",
        "\n",
        "#                 _, predicted = torch.max(outputs, 1)\n",
        "#                 total_val += masks.numel()\n",
        "#                 correct_val += (predicted == masks).sum().item()\n",
        "\n",
        "#         val_accuracy = 100 * correct_val / total_val\n",
        "\n",
        "#         print(f'Epoch {epoch + 1}/{num_epochs}, Train Loss: {train_loss / len(train_loader):.3f}, Train Acc: {train_accuracy:.2f}%, Val Loss: {val_loss / len(val_loader):.3f}, Val Acc: {val_accuracy:.2f}%')\n",
        "\n",
        "# # Run the training\n",
        "# train_model(model, train_loader, val_loader, criterion, optimizer, num_epochs=10)\n"
      ],
      "metadata": {
        "id": "g9Zww6m7f2zu"
      },
      "execution_count": null,
      "outputs": []
    },
    {
      "cell_type": "code",
      "source": [
        "s"
      ],
      "metadata": {
        "id": "eUWbe7mvf2xf"
      },
      "execution_count": null,
      "outputs": []
    },
    {
      "cell_type": "code",
      "source": [
        "break"
      ],
      "metadata": {
        "id": "QocHT8bPW-kX"
      },
      "execution_count": null,
      "outputs": []
    },
    {
      "cell_type": "code",
      "source": [
        "# This is also shit below"
      ],
      "metadata": {
        "id": "YQSTazteeq3c"
      },
      "execution_count": null,
      "outputs": []
    }
  ]
}