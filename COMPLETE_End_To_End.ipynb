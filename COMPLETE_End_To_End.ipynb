{
  "nbformat": 4,
  "nbformat_minor": 0,
  "metadata": {
    "colab": {
      "provenance": [],
      "gpuType": "T4",
      "include_colab_link": true
    },
    "kernelspec": {
      "name": "python3",
      "display_name": "Python 3"
    },
    "language_info": {
      "name": "python"
    },
    "accelerator": "GPU"
  },
  "cells": [
    {
      "cell_type": "markdown",
      "metadata": {
        "id": "view-in-github",
        "colab_type": "text"
      },
      "source": [
        "<a href=\"https://colab.research.google.com/github/harshjoshi23/CamVid-obj-segmentation/blob/main/COMPLETE_End_To_End.ipynb\" target=\"_parent\"><img src=\"https://colab.research.google.com/assets/colab-badge.svg\" alt=\"Open In Colab\"/></a>"
      ]
    },
    {
      "cell_type": "code",
      "execution_count": null,
      "metadata": {
        "id": "CSVd1TljAcR2"
      },
      "outputs": [],
      "source": []
    },
    {
      "cell_type": "code",
      "source": [],
      "metadata": {
        "id": "3ifFVhFAAd5F"
      },
      "execution_count": null,
      "outputs": []
    },
    {
      "cell_type": "markdown",
      "source": [
        "# Start"
      ],
      "metadata": {
        "id": "6--IFCfRPqXU"
      }
    },
    {
      "cell_type": "code",
      "source": [],
      "metadata": {
        "id": "xKfEw_SfPW0M"
      },
      "execution_count": null,
      "outputs": []
    },
    {
      "cell_type": "code",
      "source": [],
      "metadata": {
        "id": "0ZDXURABPWyO"
      },
      "execution_count": null,
      "outputs": []
    },
    {
      "cell_type": "code",
      "source": [
        "import os\n",
        "import numpy as np\n",
        "import pandas as pd\n",
        "from PIL import Image\n",
        "import torch\n",
        "from torch.utils.data import Dataset, DataLoader\n",
        "from torchvision import transforms\n",
        "import matplotlib.pyplot as plt"
      ],
      "metadata": {
        "id": "2lLjcA3oPWv5"
      },
      "execution_count": 1,
      "outputs": []
    },
    {
      "cell_type": "code",
      "source": [],
      "metadata": {
        "id": "gkzgUrgfW-uM"
      },
      "execution_count": 1,
      "outputs": []
    },
    {
      "cell_type": "code",
      "source": [
        "from google.colab import drive\n",
        "drive.mount('/content/drive')"
      ],
      "metadata": {
        "id": "5qK4yMGiW-sF",
        "colab": {
          "base_uri": "https://localhost:8080/"
        },
        "outputId": "c142120c-8706-48c7-d9da-226c1a2dc995"
      },
      "execution_count": 2,
      "outputs": [
        {
          "output_type": "stream",
          "name": "stdout",
          "text": [
            "Mounted at /content/drive\n"
          ]
        }
      ]
    },
    {
      "cell_type": "code",
      "source": [
        "# Define paths to dataset folders\n",
        "base_path = '/content/drive/My Drive/CamVid_Actual'\n",
        "train_images = os.path.join(base_path, 'train')\n",
        "train_labels = os.path.join(base_path, 'train_labels')\n",
        "test_images = os.path.join(base_path, 'test')\n",
        "test_labels = os.path.join(base_path, 'test_labels')\n",
        "val_images = os.path.join(base_path, 'val')\n",
        "val_labels = os.path.join(base_path, 'val_labels')"
      ],
      "metadata": {
        "id": "_Gmd2-f7Pn2m"
      },
      "execution_count": 3,
      "outputs": []
    },
    {
      "cell_type": "code",
      "source": [
        "import warnings\n",
        "warnings.filterwarnings(\"ignore\")\n",
        "\n",
        "# Class dictionary path\n",
        "class_dict_path = os.path.join(base_path, \"class_dict.csv\")\n",
        "\n",
        "class_dict = pd.read_csv(class_dict_path)\n",
        "print(class_dict.head())\n"
      ],
      "metadata": {
        "colab": {
          "base_uri": "https://localhost:8080/"
        },
        "id": "uLuJQwm4Pnzw",
        "outputId": "118935ad-7252-4c43-9298-4df87be55ce3"
      },
      "execution_count": 4,
      "outputs": [
        {
          "output_type": "stream",
          "name": "stdout",
          "text": [
            "        name    r    g    b\n",
            "0     Animal   64  128   64\n",
            "1    Archway  192    0  128\n",
            "2  Bicyclist    0  128  192\n",
            "3     Bridge    0  128   64\n",
            "4   Building  128    0    0\n"
          ]
        }
      ]
    },
    {
      "cell_type": "code",
      "source": [
        "\n",
        "# Color mapping from CSV\n",
        "color_to_class = {tuple(row[['r', 'g', 'b']].values): idx for idx, row in class_dict.iterrows()}\n",
        "class_to_color = {idx: tuple(row[['r', 'g', 'b']].values) for idx, row in class_dict.iterrows()}\n",
        "\n",
        "# Dataset paths\n",
        "train_images_path = sorted([os.path.join(base_path, \"train\", x) for x in os.listdir(os.path.join(base_path, \"train\"))])\n",
        "train_labels_path = sorted([os.path.join(base_path, \"train_labels\", x) for x in os.listdir(os.path.join(base_path, \"train_labels\"))])\n",
        "val_images_path = sorted([os.path.join(base_path, \"val\", x) for x in os.listdir(os.path.join(base_path, \"val\"))])\n",
        "val_labels_path = sorted([os.path.join(base_path, \"val_labels\", x) for x in os.listdir(os.path.join(base_path, \"val_labels\"))])\n",
        "\n",
        "# Example transformation and dataset class\n",
        "transform = transforms.Compose([\n",
        "    transforms.Resize((256, 256)),\n",
        "    transforms.ToTensor(),\n",
        "    transforms.Normalize(mean=[0.485, 0.456, 0.406], std=[0.229, 0.224, 0.225])\n",
        "])\n"
      ],
      "metadata": {
        "id": "ERtjCARaW-pl"
      },
      "execution_count": 5,
      "outputs": []
    },
    {
      "cell_type": "code",
      "source": [],
      "metadata": {
        "id": "ElOH1HWXW-m5"
      },
      "execution_count": 5,
      "outputs": []
    },
    {
      "cell_type": "code",
      "source": [
        "class CamVidDataset(Dataset):\n",
        "    def __init__(self, images_path, labels_path, transform=None, label_transform=None):\n",
        "        self.images_path = images_path\n",
        "        self.labels_path = labels_path\n",
        "        self.transform = transform\n",
        "        self.label_transform = label_transform  # Separate transform for labels\n",
        "\n",
        "    def __len__(self):\n",
        "        return len(self.images_path)\n",
        "\n",
        "    def __getitem__(self, idx):\n",
        "        image = Image.open(self.images_path[idx]).convert(\"RGB\")\n",
        "        label = Image.open(self.labels_path[idx])\n",
        "\n",
        "        if self.transform:\n",
        "            image = self.transform(image)\n",
        "\n",
        "        if self.label_transform:\n",
        "            label = self.label_transform(label)  # Applyoing the label-specific transformations\n",
        "\n",
        "        # Converting label to class indices using color mapping\n",
        "        label = np.array(label, dtype=np.int32)  # Ensure using int32 for label indexing\n",
        "        mask = np.zeros((label.shape[0], label.shape[1]), dtype=np.int64)\n",
        "        for rgb, class_id in color_to_class.items():\n",
        "            match = (label == np.array(rgb, dtype=np.int32)).all(axis=-1)\n",
        "            mask[match] = class_id\n",
        "\n",
        "        label = torch.from_numpy(mask)\n",
        "        return image, label\n",
        "\n",
        "# transformations\n",
        "transform = transforms.Compose([\n",
        "    transforms.Resize((256, 256)),\n",
        "    transforms.ToTensor(),\n",
        "    transforms.Normalize(mean=[0.485, 0.456, 0.406], std=[0.229, 0.224, 0.225])\n",
        "])\n",
        "\n",
        "label_transform = transforms.Compose([\n",
        "    transforms.Resize((256, 256), interpolation=Image.NEAREST)  # Resize labels to match image size\n",
        "])\n",
        "\n",
        "train_dataset = CamVidDataset(train_images_path, train_labels_path, transform, label_transform)\n",
        "val_dataset = CamVidDataset(val_images_path, val_labels_path, transform, label_transform)\n",
        "train_loader = DataLoader(train_dataset, batch_size=2, shuffle=True)\n",
        "val_loader = DataLoader(val_dataset, batch_size=2, shuffle=False)\n"
      ],
      "metadata": {
        "id": "s3yZC00sY39T"
      },
      "execution_count": 6,
      "outputs": []
    },
    {
      "cell_type": "code",
      "source": [],
      "metadata": {
        "id": "poDwiGkTZXAw"
      },
      "execution_count": 6,
      "outputs": []
    },
    {
      "cell_type": "code",
      "source": [
        "# Quick check\n",
        "for images, labels in train_loader:\n",
        "    print(f\"Image batch shape: {images.size()}\")\n",
        "    print(f\"Label batch shape: {labels.size()}\")\n",
        "    plt.figure(figsize=(10, 5))\n",
        "    plt.subplot(121)\n",
        "    plt.imshow(images[0].permute(1, 2, 0).numpy())\n",
        "    plt.title(\"Image\")\n",
        "    plt.subplot(122)\n",
        "    plt.imshow(labels[0].numpy())\n",
        "    plt.title(\"Label\")\n",
        "    plt.show()\n",
        "    break"
      ],
      "metadata": {
        "id": "-pL_LDI5Y__j",
        "colab": {
          "base_uri": "https://localhost:8080/",
          "height": 507
        },
        "outputId": "eedf002e-3b53-4040-ea5b-bf31c4e53722"
      },
      "execution_count": 7,
      "outputs": [
        {
          "output_type": "stream",
          "name": "stderr",
          "text": [
            "WARNING:matplotlib.image:Clipping input data to the valid range for imshow with RGB data ([0..1] for floats or [0..255] for integers).\n"
          ]
        },
        {
          "output_type": "stream",
          "name": "stdout",
          "text": [
            "Image batch shape: torch.Size([2, 3, 256, 256])\n",
            "Label batch shape: torch.Size([2, 256, 256])\n"
          ]
        },
        {
          "output_type": "display_data",
          "data": {
            "text/plain": [
              "<Figure size 1000x500 with 2 Axes>"
            ],
            "image/png": "[encoded data removed]"
          },
          "metadata": {}
        }
      ]
    },
    {
      "cell_type": "code",
      "source": [],
      "metadata": {
        "id": "Ws6JhG9JY36e"
      },
      "execution_count": 7,
      "outputs": []
    },
    {
      "cell_type": "code",
      "source": [],
      "metadata": {
        "id": "9qxSv5Z1Y34n"
      },
      "execution_count": 7,
      "outputs": []
    },
    {
      "cell_type": "code",
      "source": [
        "import torch\n",
        "import torch.nn as nn\n",
        "\n",
        "class DoubleConv(nn.Module):\n",
        "    \"\"\"(convolution => [BN] => ReLU) * 2\"\"\"\n",
        "    def __init__(self, in_channels, out_channels):\n",
        "        super(DoubleConv, self).__init__()\n",
        "        self.double_conv = nn.Sequential(\n",
        "            nn.Conv2d(in_channels, out_channels, 3, padding=1),\n",
        "            nn.BatchNorm2d(out_channels),\n",
        "            nn.ReLU(inplace=True),\n",
        "            nn.Conv2d(out_channels, out_channels, 3, padding=1),\n",
        "            nn.BatchNorm2d(out_channels),\n",
        "            nn.ReLU(inplace=True)\n",
        "        )\n",
        "\n",
        "    def forward(self, x):\n",
        "        return self.double_conv(x)\n",
        "\n",
        "class UNet(nn.Module):\n",
        "    def __init__(self, n_channels, n_classes):\n",
        "        super(UNet, self).__init__()\n",
        "        self.n_channels = n_channels\n",
        "        self.n_classes = n_classes\n",
        "\n",
        "        self.inc = DoubleConv(n_channels, 64)\n",
        "        self.down1 = DoubleConv(64, 128)\n",
        "        self.down2 = DoubleConv(128, 256)\n",
        "        self.down3 = DoubleConv(256, 512)\n",
        "        self.down4 = DoubleConv(512, 512)\n",
        "        self.up1 = DoubleConv(1024, 256)\n",
        "        self.up2 = DoubleConv(512, 128)\n",
        "        self.up3 = DoubleConv(256, 64)\n",
        "        self.up4 = DoubleConv(128, 64)\n",
        "        self.outc = nn.Conv2d(64, n_classes, 1)\n",
        "\n",
        "    def forward(self, x):\n",
        "        x1 = self.inc(x)\n",
        "        x2 = self.down1(x1)\n",
        "        x3 = self.down2(x2)\n",
        "        x4 = self.down3(x3)\n",
        "        x5 = self.down4(x4)\n",
        "        x = self.up1(torch.cat([x4, x5], dim=1))\n",
        "        x = self.up2(torch.cat([x3, x], dim=1))\n",
        "        x = self.up3(torch.cat([x2, x], dim=1))\n",
        "        x = self.up4(torch.cat([x1, x], dim=1))\n",
        "        logits = self.outc(x)\n",
        "        return logits\n",
        "\n",
        "# Model initialization\n",
        "device = torch.device('cuda' if torch.cuda.is_available() else 'cpu')\n",
        "model = UNet(n_channels=3, n_classes=len(class_dict)).to(device)\n",
        ""
      ],
      "metadata": {
        "id": "0Y4C8bIgcS2w"
      },
      "execution_count": 8,
      "outputs": []
    },
    {
      "cell_type": "code",
      "source": [],
      "metadata": {
        "id": "LQlVBoBHcSz9"
      },
      "execution_count": 8,
      "outputs": []
    },
    {
      "cell_type": "code",
      "source": [
        "criterion = nn.CrossEntropyLoss()\n",
        "optimizer = torch.optim.Adam(model.parameters(), lr=0.001)\n"
      ],
      "metadata": {
        "id": "BKIbnU1acSxu"
      },
      "execution_count": 9,
      "outputs": []
    },
    {
      "cell_type": "code",
      "source": [
        ""
      ],
      "metadata": {
        "id": "lvOJb5iCZo9h"
      },
      "execution_count": 9,
      "outputs": []
    },
    {
      "cell_type": "code",
      "source": [
        ""
      ],
      "metadata": {
        "id": "J9Jir_RIZo1z"
      },
      "execution_count": 9,
      "outputs": []
    },
    {
      "cell_type": "code",
      "source": [
        "import torch\n",
        "\n",
        "def train_model(model, train_loader, val_loader, criterion, optimizer, num_epochs=50, early_stopping_patience=10):\n",
        "    best_val_loss = float('inf')\n",
        "    epochs_no_improve = 0\n",
        "\n",
        "    device = torch.device(\"cuda\" if torch.cuda.is_available() else \"cpu\")\n",
        "    print(f'Using device: {device}')  # Check which device is being used\n",
        "    model.to(device)\n",
        "\n",
        "    for epoch in range(num_epochs):\n",
        "        model.train()\n",
        "        train_loss = 0\n",
        "        correct_train = 0\n",
        "        total_train = 0\n",
        "        for images, masks in train_loader:\n",
        "            images, masks = images.to(device), masks.to(device)\n",
        "            optimizer.zero_grad()\n",
        "            outputs = model(images)\n",
        "            loss = criterion(outputs, masks)\n",
        "            loss.backward()\n",
        "            optimizer.step()\n",
        "            train_loss += loss.item()\n",
        "\n",
        "            preds = torch.argmax(outputs, dim=1)\n",
        "            correct_train += (preds == masks).sum().item()\n",
        "            total_train += masks.numel()\n",
        "\n",
        "        train_accuracy = 100 * correct_train / total_train\n",
        "\n",
        "        model.eval()\n",
        "        val_loss = 0\n",
        "        correct_val = 0\n",
        "        total_val = 0\n",
        "        iou_per_class = []\n",
        "        with torch.no_grad():\n",
        "            for images, masks in val_loader:\n",
        "                images, masks = images.to(device), masks.to(device)\n",
        "                outputs = model(images)\n",
        "                loss = criterion(outputs, masks)\n",
        "                val_loss += loss.item()\n",
        "\n",
        "                preds = torch.argmax(outputs, dim=1)\n",
        "                correct_val += (preds == masks).sum().item()\n",
        "                total_val += masks.numel()\n",
        "\n",
        "                for class_id in range(len(class_dict)):  # Make sure class_dict is defined\n",
        "                    intersection = ((preds == class_id) & (masks == class_id)).float().sum()\n",
        "                    union = ((preds == class_id) | (masks == class_id)).float().sum()\n",
        "                    if union > 0:\n",
        "                        iou_per_class.append(intersection / union)\n",
        "\n",
        "        val_accuracy = 100 * correct_val / total_val\n",
        "        average_iou = sum(iou_per_class) / len(iou_per_class) if iou_per_class else 0\n",
        "        val_loss /= len(val_loader)\n",
        "\n",
        "        print(f'Epoch {epoch + 1}/{num_epochs}, Train Loss: {train_loss / len(train_loader):.3f}, Train Acc: {train_accuracy:.2f}%, Val Loss: {val_loss:.3f}, Val Acc: {val_accuracy:.2f}%, Average IoU: {average_iou:.4f}')\n",
        "\n",
        "        # Early stopping condition\n",
        "        if val_loss < best_val_loss:\n",
        "            best_val_loss = val_loss\n",
        "            epochs_no_improve = 0\n",
        "        else:\n",
        "            epochs_no_improve += 1\n",
        "\n",
        "        if epochs_no_improve >= early_stopping_patience:\n",
        "            print('Early stopping!')\n",
        "            break\n",
        "\n",
        "        if val_accuracy >= 85:\n",
        "            print('Reached 85% accuracy, stopping early!')\n",
        "            break\n",
        "\n",
        "#Calling train_model reducing epoches to 25 as free collab runs out of memeory\n",
        "train_model(model, train_loader, val_loader, criterion, optimizer, num_epochs=25)\n"
      ],
      "metadata": {
        "id": "LF93VeJVVO_I",
        "colab": {
          "base_uri": "https://localhost:8080/"
        },
        "outputId": "be2fc269-3823-41ce-f7d4-c6775bf313ad"
      },
      "execution_count": 10,
      "outputs": [
        {
          "output_type": "stream",
          "name": "stdout",
          "text": [
            "Using device: cuda\n",
            "Epoch 1/25, Train Loss: 1.484, Train Acc: 59.96%, Val Loss: 1.319, Val Acc: 61.60%, Average IoU: 0.1366\n",
            "Epoch 2/25, Train Loss: 1.128, Train Acc: 65.77%, Val Loss: 1.188, Val Acc: 58.68%, Average IoU: 0.1297\n",
            "Epoch 3/25, Train Loss: 1.052, Train Acc: 68.11%, Val Loss: 1.025, Val Acc: 68.15%, Average IoU: 0.1797\n",
            "Epoch 4/25, Train Loss: 0.978, Train Acc: 70.48%, Val Loss: 1.004, Val Acc: 70.36%, Average IoU: 0.1826\n",
            "Epoch 5/25, Train Loss: 0.923, Train Acc: 72.06%, Val Loss: 0.996, Val Acc: 71.08%, Average IoU: 0.1877\n",
            "Epoch 6/25, Train Loss: 0.889, Train Acc: 73.10%, Val Loss: 0.863, Val Acc: 74.66%, Average IoU: 0.2129\n",
            "Epoch 7/25, Train Loss: 0.833, Train Acc: 74.90%, Val Loss: 0.894, Val Acc: 73.26%, Average IoU: 0.2081\n",
            "Epoch 8/25, Train Loss: 0.817, Train Acc: 75.57%, Val Loss: 0.808, Val Acc: 76.22%, Average IoU: 0.2168\n",
            "Epoch 9/25, Train Loss: 0.779, Train Acc: 76.61%, Val Loss: 0.779, Val Acc: 76.76%, Average IoU: 0.2248\n",
            "Epoch 10/25, Train Loss: 0.761, Train Acc: 77.15%, Val Loss: 0.765, Val Acc: 76.80%, Average IoU: 0.2330\n",
            "Epoch 11/25, Train Loss: 0.730, Train Acc: 78.16%, Val Loss: 0.846, Val Acc: 74.71%, Average IoU: 0.2229\n",
            "Epoch 12/25, Train Loss: 0.697, Train Acc: 79.12%, Val Loss: 0.759, Val Acc: 77.62%, Average IoU: 0.2418\n",
            "Epoch 13/25, Train Loss: 0.681, Train Acc: 79.69%, Val Loss: 0.765, Val Acc: 76.76%, Average IoU: 0.2375\n",
            "Epoch 14/25, Train Loss: 0.667, Train Acc: 79.96%, Val Loss: 0.760, Val Acc: 77.63%, Average IoU: 0.2333\n",
            "Epoch 15/25, Train Loss: 0.636, Train Acc: 80.95%, Val Loss: 0.844, Val Acc: 74.83%, Average IoU: 0.2357\n",
            "Epoch 16/25, Train Loss: 0.630, Train Acc: 81.08%, Val Loss: 0.786, Val Acc: 76.30%, Average IoU: 0.2404\n",
            "Epoch 17/25, Train Loss: 0.608, Train Acc: 81.75%, Val Loss: 0.723, Val Acc: 78.29%, Average IoU: 0.2533\n",
            "Epoch 18/25, Train Loss: 0.594, Train Acc: 82.18%, Val Loss: 0.661, Val Acc: 80.01%, Average IoU: 0.2631\n",
            "Epoch 19/25, Train Loss: 0.581, Train Acc: 82.55%, Val Loss: 0.645, Val Acc: 80.48%, Average IoU: 0.2680\n",
            "Epoch 20/25, Train Loss: 0.573, Train Acc: 82.78%, Val Loss: 0.685, Val Acc: 80.00%, Average IoU: 0.2538\n",
            "Epoch 21/25, Train Loss: 0.555, Train Acc: 83.40%, Val Loss: 0.725, Val Acc: 78.37%, Average IoU: 0.2559\n",
            "Epoch 22/25, Train Loss: 0.539, Train Acc: 83.85%, Val Loss: 0.808, Val Acc: 76.88%, Average IoU: 0.2482\n",
            "Epoch 23/25, Train Loss: 0.529, Train Acc: 84.14%, Val Loss: 0.635, Val Acc: 81.47%, Average IoU: 0.2728\n",
            "Epoch 24/25, Train Loss: 0.525, Train Acc: 84.21%, Val Loss: 0.674, Val Acc: 79.58%, Average IoU: 0.2627\n",
            "Epoch 25/25, Train Loss: 0.501, Train Acc: 84.89%, Val Loss: 0.654, Val Acc: 81.04%, Average IoU: 0.2772\n"
          ]
        }
      ]
    },
    {
      "cell_type": "code",
      "source": [],
      "metadata": {
        "id": "LtjcTTi-SaZS"
      },
      "execution_count": 10,
      "outputs": []
    },
    {
      "cell_type": "code",
      "source": [],
      "metadata": {
        "id": "LRA_eGyf-dDk"
      },
      "execution_count": null,
      "outputs": []
    },
    {
      "cell_type": "code",
      "source": [
        "test_images_path = sorted([os.path.join(base_path, \"test\", x) for x in os.listdir(os.path.join(base_path, \"test\"))])\n",
        "test_labels_path = sorted([os.path.join(base_path, \"test_labels\", x) for x in os.listdir(os.path.join(base_path, \"test_labels\"))])\n",
        "\n",
        "# Creating the test dataset\n",
        "test_dataset = CamVidDataset(test_images_path, test_labels_path, transform, label_transform)\n",
        "\n",
        "# Creating the DataLoader for the test dataset\n",
        "test_loader = DataLoader(test_dataset, batch_size=2, shuffle=False)\n"
      ],
      "metadata": {
        "id": "lUPQYHxV-dA0"
      },
      "execution_count": 15,
      "outputs": []
    },
    {
      "cell_type": "code",
      "source": [
        "# def evaluate_model(model, test_loader, criterion):\n",
        "#     model.eval()\n",
        "#     test_loss = 0\n",
        "#     correct = 0\n",
        "#     total = 0\n",
        "#     iou_per_class = []\n",
        "\n",
        "#     with torch.no_grad():\n",
        "#         for images, masks in test_loader:\n",
        "#             images, masks = images.to(device), masks.to(device)\n",
        "#             outputs = model(images)\n",
        "#             test_loss += criterion(outputs, masks).item()\n",
        "#             preds = torch.argmax(outputs, dim=1)\n",
        "#             correct += (preds == masks).sum().item()\n",
        "#             total += masks.numel()\n",
        "\n",
        "#             # Calculate IoU for each class\n",
        "#             for class_id in range(len(class_dict)):\n",
        "#                 intersection = ((preds == class_id) & (masks == class_id)).float().sum()\n",
        "#                 union = ((preds == class_id) | (masks == class_id)).float().sum()\n",
        "#                 if union > 0:\n",
        "#                     iou_per_class.append(intersection / union)\n",
        "\n",
        "#     average_iou = sum(iou_per_class) / len(iou_per_class) if iou_per_class else 0\n",
        "#     test_accuracy = 100 * correct / total\n",
        "#     test_loss /= len(test_loader)\n",
        "\n",
        "#     print(f'Test Loss: {test_loss:.3f}, Test Accuracy: {test_accuracy:.2f}%, Average IoU: {average_iou:.4f}')\n",
        "\n",
        "# evaluate_model(model, test_loader, criterion)\n"
      ],
      "metadata": {
        "id": "wK7VgDxraMFK"
      },
      "execution_count": 16,
      "outputs": []
    },
    {
      "cell_type": "code",
      "source": [
        "def evaluate_model(model, test_loader, criterion):\n",
        "    model.eval()\n",
        "    test_loss = 0\n",
        "    correct = 0\n",
        "    total = 0\n",
        "    iou_per_class = []\n",
        "\n",
        "    with torch.no_grad():\n",
        "        for images, masks in test_loader:\n",
        "            images, masks = images.to(device), masks.to(device)\n",
        "            outputs = model(images)\n",
        "            test_loss += criterion(outputs, masks).item()\n",
        "            preds = torch.argmax(outputs, dim=1)\n",
        "            correct += (preds == masks).sum().item()\n",
        "            total += masks.numel()\n",
        "\n",
        "            # Calculate IoU for each class\n",
        "            for class_id in range(len(class_dict)):\n",
        "                intersection = ((preds == class_id) & (masks == class_id)).float().sum()\n",
        "                union = ((preds == class_id) | (masks == class_id)).float().sum()\n",
        "                if union > 0:\n",
        "                    iou_per_class.append(intersection / union)\n",
        "\n",
        "    average_iou = sum(iou_per_class) / len(iou_per_class) if iou_per_class else 0\n",
        "    test_accuracy = 100 * correct / total\n",
        "    test_loss /= len(test_loader)\n",
        "\n",
        "    print(f'Test Loss: {test_loss:.3f}, Test Accuracy: {test_accuracy:.2f}%, Average IoU: {average_iou:.4f}')\n",
        "\n",
        "# Call the evaluation function with the defined test_loader\n",
        "evaluate_model(model, test_loader, criterion)\n"
      ],
      "metadata": {
        "id": "szheLuDV8f4S",
        "colab": {
          "base_uri": "https://localhost:8080/"
        },
        "outputId": "1d043ea9-20a5-4fe7-9fbc-f84f2a6a66e8"
      },
      "execution_count": 17,
      "outputs": [
        {
          "output_type": "stream",
          "name": "stdout",
          "text": [
            "Test Loss: 1.158, Test Accuracy: 69.74%, Average IoU: 0.2225\n"
          ]
        }
      ]
    },
    {
      "cell_type": "code",
      "source": [],
      "metadata": {
        "id": "Qm1SiHDfadwu"
      },
      "execution_count": null,
      "outputs": []
    },
    {
      "cell_type": "code",
      "source": [],
      "metadata": {
        "id": "2v0SDdqvadt8"
      },
      "execution_count": null,
      "outputs": []
    },
    {
      "cell_type": "code",
      "source": [
        "import matplotlib.pyplot as plt\n",
        "\n",
        "def plot_error_examples(model, loader, device, num_examples=5):\n",
        "    model.eval()\n",
        "    fig, axs = plt.subplots(num_examples, 3, figsize=(15, 5 * num_examples))  # 3 columns for image, true mask, predicted mask\n",
        "\n",
        "    with torch.no_grad():\n",
        "        for images, true_masks in loader:\n",
        "            images, true_masks = images.to(device), true_masks.to(device)\n",
        "            outputs = model(images)\n",
        "            preds = torch.argmax(outputs, dim=1)\n",
        "\n",
        "            count = 0\n",
        "            for idx in range(images.shape[0]):\n",
        "                if count >= num_examples:\n",
        "                    break\n",
        "                if not torch.equal(preds[idx], true_masks[idx]):\n",
        "                    axs[count, 0].imshow(images[idx].cpu().permute(1, 2, 0).numpy())\n",
        "                    axs[count, 0].set_title('Image')\n",
        "                    axs[count, 0].axis('off')\n",
        "\n",
        "                    axs[count, 1].imshow(true_masks[idx].cpu().numpy(), cmap='gray')\n",
        "                    axs[count, 1].set_title('True Mask')\n",
        "                    axs[count, 1].axis('off')\n",
        "\n",
        "                    axs[count, 2].imshow(preds[idx].cpu().numpy(), cmap='gray')\n",
        "                    axs[count, 2].set_title('Predicted Mask')\n",
        "                    axs[count, 2].axis('off')\n",
        "\n",
        "                    count += 1\n",
        "\n",
        "            if count >= num_examples:\n",
        "                break\n",
        "\n",
        "    plt.tight_layout()\n",
        "    plt.show()\n",
        "\n",
        "# Example usage:\n",
        "plot_error_examples(model, val_loader, device)\n"
      ],
      "metadata": {
        "id": "Updftq9h8f2T",
        "colab": {
          "base_uri": "https://localhost:8080/"
        },
        "outputId": "cfd22d8d-172b-4076-b4dc-72b4b385afd5"
      },
      "execution_count": null,
      "outputs": [
        {
          "output_type": "stream",
          "name": "stderr",
          "text": [
            "WARNING:matplotlib.image:Clipping input data to the valid range for imshow with RGB data ([0..1] for floats or [0..255] for integers).\n",
            "WARNING:matplotlib.image:Clipping input data to the valid range for imshow with RGB data ([0..1] for floats or [0..255] for integers).\n",
            "WARNING:matplotlib.image:Clipping input data to the valid range for imshow with RGB data ([0..1] for floats or [0..255] for integers).\n",
            "WARNING:matplotlib.image:Clipping input data to the valid range for imshow with RGB data ([0..1] for floats or [0..255] for integers).\n",
            "WARNING:matplotlib.image:Clipping input data to the valid range for imshow with RGB data ([0..1] for floats or [0..255] for integers).\n",
            "WARNING:matplotlib.image:Clipping input data to the valid range for imshow with RGB data ([0..1] for floats or [0..255] for integers).\n",
            "WARNING:matplotlib.image:Clipping input data to the valid range for imshow with RGB data ([0..1] for floats or [0..255] for integers).\n",
            "WARNING:matplotlib.image:Clipping input data to the valid range for imshow with RGB data ([0..1] for floats or [0..255] for integers).\n",
            "WARNING:matplotlib.image:Clipping input data to the valid range for imshow with RGB data ([0..1] for floats or [0..255] for integers).\n",
            "WARNING:matplotlib.image:Clipping input data to the valid range for imshow with RGB data ([0..1] for floats or [0..255] for integers).\n",
            "WARNING:matplotlib.image:Clipping input data to the valid range for imshow with RGB data ([0..1] for floats or [0..255] for integers).\n",
            "WARNING:matplotlib.image:Clipping input data to the valid range for imshow with RGB data ([0..1] for floats or [0..255] for integers).\n",
            "WARNING:matplotlib.image:Clipping input data to the valid range for imshow with RGB data ([0..1] for floats or [0..255] for integers).\n",
            "WARNING:matplotlib.image:Clipping input data to the valid range for imshow with RGB data ([0..1] for floats or [0..255] for integers).\n",
            "WARNING:matplotlib.image:Clipping input data to the valid range for imshow with RGB data ([0..1] for floats or [0..255] for integers).\n",
            "WARNING:matplotlib.image:Clipping input data to the valid range for imshow with RGB data ([0..1] for floats or [0..255] for integers).\n",
            "WARNING:matplotlib.image:Clipping input data to the valid range for imshow with RGB data ([0..1] for floats or [0..255] for integers).\n",
            "WARNING:matplotlib.image:Clipping input data to the valid range for imshow with RGB data ([0..1] for floats or [0..255] for integers).\n",
            "WARNING:matplotlib.image:Clipping input data to the valid range for imshow with RGB data ([0..1] for floats or [0..255] for integers).\n",
            "WARNING:matplotlib.image:Clipping input data to the valid range for imshow with RGB data ([0..1] for floats or [0..255] for integers).\n",
            "WARNING:matplotlib.image:Clipping input data to the valid range for imshow with RGB data ([0..1] for floats or [0..255] for integers).\n",
            "WARNING:matplotlib.image:Clipping input data to the valid range for imshow with RGB data ([0..1] for floats or [0..255] for integers).\n",
            "WARNING:matplotlib.image:Clipping input data to the valid range for imshow with RGB data ([0..1] for floats or [0..255] for integers).\n",
            "WARNING:matplotlib.image:Clipping input data to the valid range for imshow with RGB data ([0..1] for floats or [0..255] for integers).\n",
            "WARNING:matplotlib.image:Clipping input data to the valid range for imshow with RGB data ([0..1] for floats or [0..255] for integers).\n",
            "WARNING:matplotlib.image:Clipping input data to the valid range for imshow with RGB data ([0..1] for floats or [0..255] for integers).\n",
            "WARNING:matplotlib.image:Clipping input data to the valid range for imshow with RGB data ([0..1] for floats or [0..255] for integers).\n",
            "WARNING:matplotlib.image:Clipping input data to the valid range for imshow with RGB data ([0..1] for floats or [0..255] for integers).\n",
            "WARNING:matplotlib.image:Clipping input data to the valid range for imshow with RGB data ([0..1] for floats or [0..255] for integers).\n",
            "WARNING:matplotlib.image:Clipping input data to the valid range for imshow with RGB data ([0..1] for floats or [0..255] for integers).\n",
            "WARNING:matplotlib.image:Clipping input data to the valid range for imshow with RGB data ([0..1] for floats or [0..255] for integers).\n",
            "WARNING:matplotlib.image:Clipping input data to the valid range for imshow with RGB data ([0..1] for floats or [0..255] for integers).\n",
            "WARNING:matplotlib.image:Clipping input data to the valid range for imshow with RGB data ([0..1] for floats or [0..255] for integers).\n",
            "WARNING:matplotlib.image:Clipping input data to the valid range for imshow with RGB data ([0..1] for floats or [0..255] for integers).\n",
            "WARNING:matplotlib.image:Clipping input data to the valid range for imshow with RGB data ([0..1] for floats or [0..255] for integers).\n",
            "WARNING:matplotlib.image:Clipping input data to the valid range for imshow with RGB data ([0..1] for floats or [0..255] for integers).\n",
            "WARNING:matplotlib.image:Clipping input data to the valid range for imshow with RGB data ([0..1] for floats or [0..255] for integers).\n",
            "WARNING:matplotlib.image:Clipping input data to the valid range for imshow with RGB data ([0..1] for floats or [0..255] for integers).\n",
            "WARNING:matplotlib.image:Clipping input data to the valid range for imshow with RGB data ([0..1] for floats or [0..255] for integers).\n",
            "WARNING:matplotlib.image:Clipping input data to the valid range for imshow with RGB data ([0..1] for floats or [0..255] for integers).\n",
            "WARNING:matplotlib.image:Clipping input data to the valid range for imshow with RGB data ([0..1] for floats or [0..255] for integers).\n",
            "WARNING:matplotlib.image:Clipping input data to the valid range for imshow with RGB data ([0..1] for floats or [0..255] for integers).\n",
            "WARNING:matplotlib.image:Clipping input data to the valid range for imshow with RGB data ([0..1] for floats or [0..255] for integers).\n",
            "WARNING:matplotlib.image:Clipping input data to the valid range for imshow with RGB data ([0..1] for floats or [0..255] for integers).\n",
            "WARNING:matplotlib.image:Clipping input data to the valid range for imshow with RGB data ([0..1] for floats or [0..255] for integers).\n",
            "WARNING:matplotlib.image:Clipping input data to the valid range for imshow with RGB data ([0..1] for floats or [0..255] for integers).\n",
            "WARNING:matplotlib.image:Clipping input data to the valid range for imshow with RGB data ([0..1] for floats or [0..255] for integers).\n",
            "WARNING:matplotlib.image:Clipping input data to the valid range for imshow with RGB data ([0..1] for floats or [0..255] for integers).\n",
            "WARNING:matplotlib.image:Clipping input data to the valid range for imshow with RGB data ([0..1] for floats or [0..255] for integers).\n",
            "WARNING:matplotlib.image:Clipping input data to the valid range for imshow with RGB data ([0..1] for floats or [0..255] for integers).\n",
            "WARNING:matplotlib.image:Clipping input data to the valid range for imshow with RGB data ([0..1] for floats or [0..255] for integers).\n",
            "WARNING:matplotlib.image:Clipping input data to the valid range for imshow with RGB data ([0..1] for floats or [0..255] for integers).\n",
            "WARNING:matplotlib.image:Clipping input data to the valid range for imshow with RGB data ([0..1] for floats or [0..255] for integers).\n",
            "WARNING:matplotlib.image:Clipping input data to the valid range for imshow with RGB data ([0..1] for floats or [0..255] for integers).\n",
            "WARNING:matplotlib.image:Clipping input data to the valid range for imshow with RGB data ([0..1] for floats or [0..255] for integers).\n",
            "WARNING:matplotlib.image:Clipping input data to the valid range for imshow with RGB data ([0..1] for floats or [0..255] for integers).\n",
            "WARNING:matplotlib.image:Clipping input data to the valid range for imshow with RGB data ([0..1] for floats or [0..255] for integers).\n",
            "WARNING:matplotlib.image:Clipping input data to the valid range for imshow with RGB data ([0..1] for floats or [0..255] for integers).\n",
            "WARNING:matplotlib.image:Clipping input data to the valid range for imshow with RGB data ([0..1] for floats or [0..255] for integers).\n",
            "WARNING:matplotlib.image:Clipping input data to the valid range for imshow with RGB data ([0..1] for floats or [0..255] for integers).\n",
            "WARNING:matplotlib.image:Clipping input data to the valid range for imshow with RGB data ([0..1] for floats or [0..255] for integers).\n",
            "WARNING:matplotlib.image:Clipping input data to the valid range for imshow with RGB data ([0..1] for floats or [0..255] for integers).\n",
            "WARNING:matplotlib.image:Clipping input data to the valid range for imshow with RGB data ([0..1] for floats or [0..255] for integers).\n",
            "WARNING:matplotlib.image:Clipping input data to the valid range for imshow with RGB data ([0..1] for floats or [0..255] for integers).\n",
            "WARNING:matplotlib.image:Clipping input data to the valid range for imshow with RGB data ([0..1] for floats or [0..255] for integers).\n",
            "WARNING:matplotlib.image:Clipping input data to the valid range for imshow with RGB data ([0..1] for floats or [0..255] for integers).\n"
          ]
        }
      ]
    },
    {
      "cell_type": "code",
      "source": [],
      "metadata": {
        "id": "CUoCoRyL-Gyp"
      },
      "execution_count": null,
      "outputs": []
    },
    {
      "cell_type": "code",
      "source": [],
      "metadata": {
        "id": "bXvlPSOhbPMb"
      },
      "execution_count": null,
      "outputs": []
    },
    {
      "cell_type": "code",
      "source": [],
      "metadata": {
        "id": "s9nxe91CbPJl"
      },
      "execution_count": null,
      "outputs": []
    },
    {
      "cell_type": "code",
      "source": [],
      "metadata": {
        "id": "maRUE2dSbPHr"
      },
      "execution_count": null,
      "outputs": []
    }
  ]
}